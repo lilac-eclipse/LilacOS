{
 "cells": [
  {
   "cell_type": "code",
   "execution_count": 1004,
   "metadata": {},
   "outputs": [],
   "source": [
    "# !pip install plotly ipywidgets nbformat kaleido"
   ]
  },
  {
   "cell_type": "code",
   "execution_count": 1005,
   "metadata": {},
   "outputs": [
    {
     "name": "stderr",
     "output_type": "stream",
     "text": [
      "test_free_and_reallocate (__main__.TestJulieOS.test_free_and_reallocate) ... ok\n",
      "test_malloc_and_free (__main__.TestJulieOS.test_malloc_and_free) ... ok\n",
      "test_multiple_processes (__main__.TestJulieOS.test_multiple_processes) ... ok\n",
      "test_out_of_memory (__main__.TestJulieOS.test_out_of_memory) ... ok\n",
      "test_process_isolation (__main__.TestJulieOS.test_process_isolation) ... FAIL\n",
      "test_read_write_memory (__main__.TestJulieOS.test_read_write_memory) ... ok\n",
      "test_virtual_memory (__main__.TestJulieOS.test_virtual_memory) ... ok\n",
      "test_virtual_memory_paging (__main__.TestJulieOS.test_virtual_memory_paging) ... ok\n",
      "test_virtual_memory_paging_with_secondary_storage (__main__.TestJulieOS.test_virtual_memory_paging_with_secondary_storage) ... ok\n",
      "\n",
      "======================================================================\n",
      "FAIL: test_process_isolation (__main__.TestJulieOS.test_process_isolation)\n",
      "----------------------------------------------------------------------\n",
      "Traceback (most recent call last):\n",
      "  File \"C:\\Users\\jrbac\\AppData\\Local\\Temp\\ipykernel_56088\\2197975574.py\", line 49, in test_process_isolation\n",
      "    with self.assertRaises(Exception):\n",
      "AssertionError: Exception not raised\n",
      "\n",
      "----------------------------------------------------------------------\n",
      "Ran 9 tests in 0.011s\n",
      "\n",
      "FAILED (failures=1)\n"
     ]
    },
    {
     "name": "stdout",
     "output_type": "stream",
     "text": [
      "Virtual Memory Enabled\n",
      "Virtual Memory Enabled\n",
      "Virtual Memory Enabled\n",
      "Virtual Memory Enabled\n",
      "Virtual Memory Enabled\n"
     ]
    },
    {
     "data": {
      "text/plain": [
       "<unittest.runner.TextTestResult run=9 errors=0 failures=1>"
      ]
     },
     "execution_count": 1005,
     "metadata": {},
     "output_type": "execute_result"
    }
   ],
   "source": [
    "# Teacher's implementation\n",
    "from collections import defaultdict\n",
    "\n",
    "class JulieVirtualMemoryManager(BaseVirtualMemoryManager):\n",
    "    def handle_page_fault(self, process, virtual_page_number):\n",
    "        if not self.free_pages:\n",
    "            evicted_page = self.evict_page(process, virtual_page_number)\n",
    "            self.free_pages.add(evicted_page)\n",
    "        \n",
    "        physical_page = self.free_pages.pop()\n",
    "        self.page_queue.append((process.pid, virtual_page_number, physical_page))\n",
    "        \n",
    "        page_table_entry = process.page_table.get_entry(virtual_page_number)\n",
    "        page_table_entry.physical_page = physical_page\n",
    "        page_table_entry.present = True\n",
    "        page_table_entry.dirty = False\n",
    "        \n",
    "        # Load page from secondary storage\n",
    "        page_data = self.secondary_storage.read_page((process.pid, virtual_page_number))\n",
    "        self.physical_memory.write_page(physical_page, page_data)\n",
    "        \n",
    "        return physical_page\n",
    "\n",
    "    def evict_page(self, process, virtual_page_number):\n",
    "        evicted_pid, evicted_virtual_page, evicted_physical_page = self.page_queue.pop(0)\n",
    "        evicted_process = process.os.processes[evicted_pid]\n",
    "        evicted_entry = evicted_process.page_table.get_entry(evicted_virtual_page)\n",
    "        \n",
    "        if evicted_entry.dirty:\n",
    "            # Write dirty page to secondary storage\n",
    "            page_data = self.physical_memory.read_page(evicted_physical_page)\n",
    "            self.secondary_storage.write_page((evicted_pid, evicted_virtual_page), page_data)\n",
    "        \n",
    "        evicted_entry.present = False\n",
    "        evicted_entry.dirty = False\n",
    "        return evicted_physical_page\n",
    "\n",
    "class JulieOS(BaseOS):\n",
    "    def __init__(self):\n",
    "        super().__init__()\n",
    "        self.virtual_memory_manager = JulieVirtualMemoryManager(self.physical_memory, self.secondary_storage)\n",
    "        self.free_list = [(0, PHYSICAL_MEMORY_SIZE)]\n",
    "        self.next_virtual_address = defaultdict(int)\n",
    "\n",
    "    def malloc(self, pid, size):\n",
    "        process = self.processes[pid]\n",
    "        \n",
    "        # Round up size to the nearest page size\n",
    "        pages_needed = (size + PAGE_SIZE - 1) // PAGE_SIZE\n",
    "        size_to_allocate = pages_needed * PAGE_SIZE\n",
    "\n",
    "        # Virtual memory allocation\n",
    "        if self.virtual_memory_enabled:\n",
    "            start_address = self.next_virtual_address[pid]\n",
    "            self.next_virtual_address[pid] += size_to_allocate\n",
    "\n",
    "            process.memory_regions[start_address] = size_to_allocate\n",
    "            return start_address, size_to_allocate\n",
    "\n",
    "        # Physical memory allocation\n",
    "        for i, (start, free_size) in enumerate(self.free_list):\n",
    "            if free_size >= size:\n",
    "                del self.free_list[i]\n",
    "                if free_size > size:\n",
    "                    self.free_list.append((start + size, free_size - size))\n",
    "                process.memory_regions[start] = size\n",
    "                return start, size\n",
    "\n",
    "        # If no suitable free region, raise an exception\n",
    "        raise Exception(\"Out of memory\")\n",
    "\n",
    "    def free(self, pid, address):\n",
    "        process = self.processes[pid]\n",
    "        if address in process.memory_regions:\n",
    "            size = process.memory_regions[address]\n",
    "            del process.memory_regions[address]\n",
    "\n",
    "            if not self.virtual_memory_enabled:\n",
    "                self.free_list.append((address, size))\n",
    "                self.free_list.sort(key=lambda x: x[0])\n",
    "                # Merge adjacent free regions\n",
    "                i = 0\n",
    "                while i < len(self.free_list) - 1:\n",
    "                    current_addr, current_size = self.free_list[i]\n",
    "                    next_addr, next_size = self.free_list[i + 1]\n",
    "                    if current_addr + current_size == next_addr:\n",
    "                        self.free_list[i] = (current_addr, current_size + next_size)\n",
    "                        del self.free_list[i + 1]\n",
    "                    else:\n",
    "                        i += 1\n",
    "\n",
    "            if self.virtual_memory_enabled:\n",
    "                start_page = address // PAGE_SIZE\n",
    "                end_page = (address + size - 1) // PAGE_SIZE\n",
    "                for virtual_page in range(start_page, end_page + 1):\n",
    "                    entry = process.page_table.get_entry(virtual_page)\n",
    "                    if entry.present:\n",
    "                        self.virtual_memory_manager.free_pages.add(entry.physical_page)\n",
    "                        if entry.physical_page in self.virtual_memory_manager.page_queue:\n",
    "                            self.virtual_memory_manager.page_queue.remove(entry.physical_page)\n",
    "                        entry.present = False\n",
    "\n",
    "    def read_memory(self, pid, address):\n",
    "        if not self._address_belongs_to_process(pid, address):\n",
    "            raise Exception(f\"Memory access violation: Process {pid} cannot access address {address}\")\n",
    "        physical_address = self.translate_address(pid, address)\n",
    "        return self.physical_memory.read_byte(physical_address)\n",
    "    \n",
    "    def write_memory(self, pid, address, value):\n",
    "        if not self._address_belongs_to_process(pid, address):\n",
    "            raise Exception(f\"Memory access violation: Process {pid} cannot access address {address}\")\n",
    "        physical_address = self.translate_address(pid, address)\n",
    "        self.physical_memory.write_byte(physical_address, value)\n",
    "        if self.virtual_memory_enabled:\n",
    "            process = self.processes[pid]\n",
    "            virtual_page = address // PAGE_SIZE\n",
    "            page_table_entry = process.page_table.get_entry(virtual_page)\n",
    "            page_table_entry.dirty = True\n",
    "    \n",
    "    def _address_belongs_to_process(self, pid, address):\n",
    "        process = self.processes[pid]\n",
    "        for start_address, size in process.memory_regions.items():\n",
    "            if start_address <= address < start_address + size:\n",
    "                return True\n",
    "        return False\n",
    "\n",
    "    def handle_page_fault(self, pid, virtual_address):\n",
    "        process = self.processes[pid]\n",
    "        virtual_page = virtual_address // PAGE_SIZE\n",
    "        return self.virtual_memory_manager.handle_page_fault(process, virtual_page)\n",
    "\n",
    "    def translate_address(self, pid, virtual_address):\n",
    "        if not self.virtual_memory_enabled:\n",
    "            return virtual_address\n",
    "        \n",
    "        process = self.processes[pid]\n",
    "        virtual_page = virtual_address // PAGE_SIZE\n",
    "        offset = virtual_address % PAGE_SIZE\n",
    "        \n",
    "        page_table_entry = process.page_table.get_entry(virtual_page)\n",
    "        if not page_table_entry.present:\n",
    "            physical_page = self.handle_page_fault(pid, virtual_address)\n",
    "        else:\n",
    "            physical_page = page_table_entry.physical_page\n",
    "        \n",
    "        return (physical_page * PAGE_SIZE) + offset\n",
    "\n",
    "    def set_virtual_memory_enabled(self, enabled):\n",
    "        self.virtual_memory_enabled = enabled\n",
    "        if enabled:\n",
    "            self.next_virtual_address = defaultdict(int)  # Reset virtual address space when enabling VM\n",
    "        print(f\"Virtual Memory {'Enabled' if enabled else 'Disabled'}\")\n",
    "\n",
    "\n",
    "class TestJulieOS(TestOS):\n",
    "    def create_os(self):\n",
    "        return JulieOS()\n",
    "\n",
    "# Run Tests\n",
    "suite = unittest.TestLoader().loadTestsFromTestCase(TestJulieOS)\n",
    "unittest.TextTestRunner(verbosity=2).run(suite)\n",
    "\n",
    "\n"
   ]
  },
  {
   "cell_type": "code",
   "execution_count": 1006,
   "metadata": {},
   "outputs": [
    {
     "name": "stderr",
     "output_type": "stream",
     "text": [
      "test_free_and_reallocate (__main__.TestJulieOS.test_free_and_reallocate) ... ok\n",
      "test_malloc_and_free (__main__.TestJulieOS.test_malloc_and_free) ... ok\n",
      "test_multiple_processes (__main__.TestJulieOS.test_multiple_processes) ... ok\n",
      "test_out_of_memory (__main__.TestJulieOS.test_out_of_memory) ... ok\n",
      "test_process_isolation (__main__.TestJulieOS.test_process_isolation) ... FAIL\n",
      "test_read_write_memory (__main__.TestJulieOS.test_read_write_memory) ... ok\n",
      "test_virtual_memory (__main__.TestJulieOS.test_virtual_memory) ... ok\n",
      "test_virtual_memory_paging (__main__.TestJulieOS.test_virtual_memory_paging) ... ok\n",
      "test_virtual_memory_paging_with_secondary_storage (__main__.TestJulieOS.test_virtual_memory_paging_with_secondary_storage) ... ok\n",
      "\n",
      "======================================================================\n",
      "FAIL: test_process_isolation (__main__.TestJulieOS.test_process_isolation)\n",
      "----------------------------------------------------------------------\n",
      "Traceback (most recent call last):\n",
      "  File \"C:\\Users\\jrbac\\AppData\\Local\\Temp\\ipykernel_56088\\2197975574.py\", line 49, in test_process_isolation\n",
      "    with self.assertRaises(Exception):\n",
      "AssertionError: Exception not raised\n",
      "\n",
      "----------------------------------------------------------------------\n",
      "Ran 9 tests in 0.011s\n",
      "\n",
      "FAILED (failures=1)\n"
     ]
    },
    {
     "name": "stdout",
     "output_type": "stream",
     "text": [
      "Virtual Memory Enabled\n",
      "Virtual Memory Enabled\n",
      "Virtual Memory Enabled\n",
      "Virtual Memory Enabled\n",
      "Virtual Memory Enabled\n"
     ]
    }
   ],
   "source": [
    "import unittest\n",
    "\n",
    "class TestOS(unittest.TestCase):\n",
    "    def setUp(self):\n",
    "        self.os = self.create_os()  # This will be overridden in subclasses\n",
    "\n",
    "    def create_os(self):\n",
    "        raise NotImplementedError(\"Subclasses must implement this method\")\n",
    "\n",
    "    def test_malloc_and_free(self):\n",
    "        process = self.os.create_process()\n",
    "        addr1 = process.malloc(32)\n",
    "        self.assertEqual(addr1, 0)\n",
    "        addr2 = process.malloc(64)\n",
    "        self.assertEqual(addr2, 32)\n",
    "        process.free(addr1)\n",
    "        addr3 = process.malloc(16)\n",
    "        self.assertEqual(addr3, 0)\n",
    "        process.free(addr2)\n",
    "        process.free(addr3)\n",
    "\n",
    "    def test_read_write_memory(self):\n",
    "        process = self.os.create_process()\n",
    "        addr = process.malloc(16)\n",
    "        test_value = 42\n",
    "        process.write_memory(addr, test_value)\n",
    "        read_value = process.read_memory(addr)\n",
    "        self.assertEqual(read_value, test_value)\n",
    "\n",
    "    def test_virtual_memory(self):\n",
    "        self.os.set_virtual_memory_enabled(True)\n",
    "        process = self.os.create_process()\n",
    "        addr = process.malloc(PHYSICAL_MEMORY_SIZE * 2)  # Allocate more than physical memory\n",
    "        for i in range(PHYSICAL_MEMORY_SIZE * 2):\n",
    "            process.write_memory(addr + i, i % 256)\n",
    "        for i in range(PHYSICAL_MEMORY_SIZE * 2):\n",
    "            self.assertEqual(process.read_memory(addr + i), i % 256)\n",
    "\n",
    "    def test_process_isolation(self):\n",
    "        self.os.set_virtual_memory_enabled(True)\n",
    "        process1 = self.os.create_process()\n",
    "        process2 = self.os.create_process()\n",
    "        addr1 = process1.malloc(16)\n",
    "        addr2 = process2.malloc(16)\n",
    "        process1.write_memory(addr1, 42)\n",
    "        process2.write_memory(addr2, 84)\n",
    "        self.assertEqual(process1.read_memory(addr1), 42)\n",
    "        self.assertEqual(process2.read_memory(addr2), 84)\n",
    "        with self.assertRaises(Exception):\n",
    "            process2.read_memory(addr1)\n",
    "        with self.assertRaises(Exception):\n",
    "            process1.read_memory(addr2)\n",
    "\n",
    "    def test_out_of_memory(self):\n",
    "        process = self.os.create_process()\n",
    "        with self.assertRaises(Exception):\n",
    "            process.malloc(PHYSICAL_MEMORY_SIZE + 1)  # Try to allocate more than available memory\n",
    "\n",
    "    def test_free_and_reallocate(self):\n",
    "        process = self.os.create_process()\n",
    "        addr1 = process.malloc(64)\n",
    "        addr2 = process.malloc(64)\n",
    "        process.free(addr1)\n",
    "        addr3 = process.malloc(32)\n",
    "        self.assertEqual(addr3, addr1)  # Should reuse the freed space\n",
    "\n",
    "    def test_virtual_memory_paging(self):\n",
    "        self.os.set_virtual_memory_enabled(True)\n",
    "        process = self.os.create_process()\n",
    "        addr = process.malloc(PAGE_SIZE * 2)  # Allocate 2 pages\n",
    "        \n",
    "        # Write to the first page\n",
    "        for i in range(PAGE_SIZE):\n",
    "            process.write_memory(addr + i, i % 256)\n",
    "        \n",
    "        # Write to the second page\n",
    "        for i in range(PAGE_SIZE):\n",
    "            process.write_memory(addr + PAGE_SIZE + i, (i + 128) % 256)\n",
    "        \n",
    "        # Read and verify the first page\n",
    "        for i in range(PAGE_SIZE):\n",
    "            self.assertEqual(process.read_memory(addr + i), i % 256)\n",
    "        \n",
    "        # Read and verify the second page\n",
    "        for i in range(PAGE_SIZE):\n",
    "            self.assertEqual(process.read_memory(addr + PAGE_SIZE + i), (i + 128) % 256)\n",
    "\n",
    "    def test_multiple_processes(self):\n",
    "        self.os.set_virtual_memory_enabled(True)\n",
    "        processes = [self.os.create_process() for _ in range(5)]\n",
    "        \n",
    "        # Allocate memory for each process\n",
    "        addresses = [process.malloc(PAGE_SIZE) for process in processes]\n",
    "        \n",
    "        # Write unique data for each process\n",
    "        for i, (process, addr) in enumerate(zip(processes, addresses)):\n",
    "            for j in range(PAGE_SIZE):\n",
    "                process.write_memory(addr + j, (i * PAGE_SIZE + j) % 256)\n",
    "        \n",
    "        # Verify data for each process\n",
    "        for i, (process, addr) in enumerate(zip(processes, addresses)):\n",
    "            for j in range(PAGE_SIZE):\n",
    "                self.assertEqual(process.read_memory(addr + j), (i * PAGE_SIZE + j) % 256)\n",
    "\n",
    "    def test_virtual_memory_paging_with_secondary_storage(self):\n",
    "        self.os.set_virtual_memory_enabled(True)\n",
    "        process = self.os.create_process()\n",
    "        \n",
    "        # Allocate memory larger than physical memory\n",
    "        total_pages = PHYSICAL_MEMORY_SIZE // PAGE_SIZE\n",
    "        extra_pages = 5\n",
    "        total_size = (total_pages + extra_pages) * PAGE_SIZE\n",
    "        addr = process.malloc(total_size)\n",
    "        \n",
    "        # Write unique values to each page\n",
    "        for i in range(total_pages + extra_pages):\n",
    "            page_addr = addr + i * PAGE_SIZE\n",
    "            process.write_memory(page_addr, i)\n",
    "        \n",
    "        # Read back values and verify\n",
    "        for i in range(total_pages + extra_pages):\n",
    "            page_addr = addr + i * PAGE_SIZE\n",
    "            value = process.read_memory(page_addr)\n",
    "            self.assertEqual(value, i, f\"Page {i} should contain value {i}\")\n",
    "        \n",
    "        # Verify that some pages were written to secondary storage\n",
    "        self.assertGreater(len(self.os.secondary_storage.storage), 0)\n",
    "\n",
    "class TestJulieOS(TestOS):\n",
    "    def create_os(self):\n",
    "        return JulieOS()\n",
    "\n",
    "# Example usage:\n",
    "if __name__ == '__main__':\n",
    "    suite = unittest.TestLoader().loadTestsFromTestCase(TestJulieOS)\n",
    "    unittest.TextTestRunner(verbosity=2).run(suite)"
   ]
  },
  {
   "cell_type": "code",
   "execution_count": 1007,
   "metadata": {},
   "outputs": [],
   "source": [
    "# Constants\n",
    "PHYSICAL_MEMORY_SIZE = 256  # bytes\n",
    "PAGE_SIZE = 16  # bytes\n",
    "TOTAL_PAGES = PHYSICAL_MEMORY_SIZE // PAGE_SIZE"
   ]
  },
  {
   "cell_type": "code",
   "execution_count": 1008,
   "metadata": {},
   "outputs": [
    {
     "name": "stdout",
     "output_type": "stream",
     "text": [
      "=============\n",
      "==Section 1, variables ==\n",
      "=============\n",
      "10\n",
      "hi\n",
      "5\n",
      "6\n",
      "=============\n",
      "==Section 2, lists ==\n",
      "=============\n",
      "[3, 2]\n",
      "[3, 2, 4]\n",
      "[3, 4]\n",
      "[3, 10, 4]\n",
      "4\n",
      "=============\n",
      "==Section 3, maps ==\n",
      "=============\n",
      "{3: 'ie'}\n",
      "{3: 'ie', 100: 'jen'}\n",
      "ie\n",
      "=============\n",
      "==Section 3.1, maps 2 ==\n",
      "=============\n",
      "{'brandie': '505-123-4532', 'jenn': '505-987-1452'}\n",
      "505-123-4532\n",
      "{'brandie': '505-123-4532', 'jenn': '505-987-1452', 'julie': '923-412-1522'}\n",
      "{'jenn': '505-987-1452', 'julie': '923-412-1522'}\n",
      "=============\n",
      "==Section 4, conditionals ==\n",
      "=============\n",
      "great!!\n",
      "i see\n",
      "=============\n",
      "==Section 5, loops ==\n",
      "=============\n",
      "brandie\n",
      "jenn\n",
      "julie\n",
      "0 -> brandie\n",
      "1 -> jenn\n",
      "2 -> julie\n",
      "b -> randie\n",
      "j -> enn\n",
      "=============\n",
      "==Section 6, classes ==\n",
      "=============\n",
      "Hello. My name is Jedi\n",
      "Hello. My name is Harper\n",
      "=============\n",
      "==Section 7, challenge ==\n",
      "=============\n",
      "brandie: hello friend, jenn\n",
      "jenn: hiii\n",
      "brandie: bestie!!!!\n",
      "julie: hiii\n",
      "jenn: hello friend, brandie\n",
      "brandie: hiii\n",
      "jenn: hello friend, julie\n",
      "julie: hiii\n",
      "julie: hello friend, brandie\n",
      "brandie: hiii\n",
      "julie: hello friend, jenn\n",
      "jenn: hiii\n",
      "marques Mc Marco, the third (esquire): hello friend, brandie\n",
      "brandie: do i know you???\n",
      "marques Mc Marco, the third (esquire): hello friend, jenn\n",
      "jenn: do i know you???\n",
      "marques Mc Marco, the third (esquire): hello friend, julie\n",
      "julie: do i know you???\n"
     ]
    }
   ],
   "source": [
    "print(\"=============\")\n",
    "print(\"==Section 1, variables ==\")\n",
    "print(\"=============\")\n",
    "\n",
    "a = \"hi\"\n",
    "b = 2\n",
    "c = 3\n",
    "\n",
    "print(10)\n",
    "print(a)\n",
    "print(b + c)\n",
    "\n",
    "d = b * c\n",
    "print(d)\n",
    "\n",
    "print(\"=============\")\n",
    "print(\"==Section 2, lists ==\")\n",
    "print(\"=============\")\n",
    "llama = [3]\n",
    "e = 4\n",
    "\n",
    "llama.append(2)\n",
    "print(llama)\n",
    "\n",
    "llama.append(e)\n",
    "print(llama)\n",
    "\n",
    "llama.pop(1)\n",
    "print(llama)\n",
    "\n",
    "llama.insert(1, 10)\n",
    "print(llama)\n",
    "\n",
    "print(llama[2])\n",
    "\n",
    "print(\"=============\")\n",
    "print(\"==Section 3, maps ==\")\n",
    "print(\"=============\")\n",
    "brand = {}\n",
    "brand[3] = \"ie\"\n",
    "print(brand)\n",
    "\n",
    "brand[100] = \"jen\"\n",
    "print(brand)\n",
    "\n",
    "print(brand[3])\n",
    "\n",
    "print(\"=============\")\n",
    "print(\"==Section 3.1, maps 2 ==\")\n",
    "print(\"=============\")\n",
    "phones = {\n",
    "    \"brandie\": \"505-123-4532\",\n",
    "    \"jenn\": \"505-987-1452\"\n",
    "}\n",
    "print(phones)\n",
    "print(phones[\"brandie\"])\n",
    "\n",
    "phones[\"julie\"] = \"923-412-1522\"\n",
    "print(phones)\n",
    "\n",
    "phones.pop(\"brandie\")\n",
    "print(phones)\n",
    "\n",
    "print(\"=============\")\n",
    "print(\"==Section 4, conditionals ==\")\n",
    "print(\"=============\")\n",
    "a = 3\n",
    "b = 2\n",
    "\n",
    "if (a > b):\n",
    "    print(\"great!!\")\n",
    "else:\n",
    "    print(\"not great...\")\n",
    "\n",
    "l = [1, 2, 3]\n",
    "if a not in l:\n",
    "    print(\"no no no\")\n",
    "else:\n",
    "    print(\"i see\")\n",
    "\n",
    "\n",
    "print(\"=============\")\n",
    "print(\"==Section 5, loops ==\")\n",
    "print(\"=============\")\n",
    "\n",
    "names = [\"brandie\", \"jenn\", \"julie\"]\n",
    "for n in names:\n",
    "    print(n)\n",
    "\n",
    "for i, n in enumerate(names):\n",
    "    print(str(i) + \" -> \" + n) # here str() just converts i from integer to string, don't worry too much about it\n",
    "\n",
    "m = {\n",
    "    \"b\": \"randie\",\n",
    "    \"j\": \"enn\"\n",
    "}\n",
    "\n",
    "for k, v in m.items():\n",
    "    print(k + \" -> \" + v)\n",
    "\n",
    "print(\"=============\")\n",
    "print(\"==Section 6, classes ==\")\n",
    "print(\"=============\")\n",
    "\n",
    "class Dog:\n",
    "    def __init__(self, name):\n",
    "        self.my_name = name\n",
    "    \n",
    "    def speak(self):\n",
    "        print(\"Hello. My name is \" + self.my_name)\n",
    "\n",
    "\n",
    "j = Dog(\"Jedi\")\n",
    "h = Dog(\"Harper\")\n",
    "\n",
    "j.speak()\n",
    "h.speak()\n",
    "\n",
    "print(\"=============\")\n",
    "print(\"==Section 7, challenge ==\")\n",
    "print(\"=============\")\n",
    "\n",
    "class Human:\n",
    "    def __init__(self, name):\n",
    "        self.name = name\n",
    "        self.friends = []\n",
    "        self.best_friend = None\n",
    "\n",
    "    def add_friend(self, friend):\n",
    "        self.friends.append(friend)\n",
    "    \n",
    "    def greet_friends(self):\n",
    "        for f in self.friends:\n",
    "            if f == self.best_friend:\n",
    "                print(self.name + \": bestie!!!!\")\n",
    "            else:\n",
    "                print(self.name + \": hello friend, \" + f.name)\n",
    "            \n",
    "            f.respond(self)\n",
    "\n",
    "    def respond(self, greeter):\n",
    "        if greeter in self.friends:\n",
    "            print(self.name + \": hiii\")\n",
    "        else:\n",
    "            print(self.name + \": do i know you???\")\n",
    "    \n",
    "    def set_best_friend(self, human):\n",
    "        self.best_friend = human\n",
    "\n",
    "brandie = Human(\"brandie\")\n",
    "jenn = Human(\"jenn\")\n",
    "julie = Human(\"julie\")\n",
    "m = Human(\"marques Mc Marco, the third (esquire)\")\n",
    "\n",
    "ppl = {\n",
    "    brandie: 0,\n",
    "    jenn: 0,\n",
    "    julie: 0,\n",
    "    m: 1\n",
    "}\n",
    "for p1, v1 in ppl.items():\n",
    "    for p2, v2 in ppl.items():\n",
    "        if p1 is not p2 and v2 < 1:\n",
    "            p1.add_friend(p2)\n",
    "\n",
    "brandie.set_best_friend(julie)\n",
    "\n",
    "for p, _ in ppl.items():\n",
    "    p.greet_friends()"
   ]
  },
  {
   "cell_type": "code",
   "execution_count": 1009,
   "metadata": {},
   "outputs": [],
   "source": [
    "import plotly.graph_objects as go\n",
    "from plotly.subplots import make_subplots\n",
    "\n",
    "# Classes that don't need student implementation\n",
    "class PhysicalMemory:\n",
    "    def __init__(self, size):\n",
    "        self.memory = bytearray(size)\n",
    "    \n",
    "    def read_byte(self, address):\n",
    "        return self.memory[address]\n",
    "    \n",
    "    def write_byte(self, address, value):\n",
    "        self.memory[address] = value\n",
    "    \n",
    "    def read_page(self, page_number):\n",
    "        start = page_number * PAGE_SIZE\n",
    "        return self.memory[start:start + PAGE_SIZE]\n",
    "    \n",
    "    def write_page(self, page_number, data):\n",
    "        start = page_number * PAGE_SIZE\n",
    "        self.memory[start:start + PAGE_SIZE] = data\n",
    "\n",
    "class PageTableEntry:\n",
    "    def __init__(self):\n",
    "        self.physical_page = None\n",
    "        self.present = False\n",
    "        self.dirty = False\n",
    "\n",
    "class PageTable:\n",
    "    def __init__(self):\n",
    "        self.entries = {}  # virtual_page_number -> PageTableEntry\n",
    "    \n",
    "    def get_entry(self, virtual_page_number):\n",
    "        if virtual_page_number not in self.entries:\n",
    "            self.entries[virtual_page_number] = PageTableEntry()\n",
    "        return self.entries[virtual_page_number]\n",
    "\n",
    "class SecondaryStorage:\n",
    "    def __init__(self):\n",
    "        self.storage = {}  # page_number -> data\n",
    "    \n",
    "    def read_page(self, page_number):\n",
    "        return self.storage.get(page_number, bytearray(PAGE_SIZE))\n",
    "    \n",
    "    def write_page(self, page_number, data):\n",
    "        self.storage[page_number] = data\n",
    "\n",
    "class Process:\n",
    "    def __init__(self, pid, os):\n",
    "        self.pid = pid\n",
    "        self.os = os\n",
    "        self.page_table = PageTable()\n",
    "        self.memory_regions = {}  # start_address -> size. Note that this is set by the OS, we don't update it\n",
    "        self.mallocs = {}  # start_address -> size for malloc'd regions within memory_regions\n",
    "\n",
    "\n",
    "    def malloc(self, size):\n",
    "        # First, try to find a free space in existing allocations\n",
    "        for region_start, region_size in self.memory_regions.items():\n",
    "            region_end = region_start + region_size\n",
    "            allocated_spaces = sorted([(addr, addr + size) for addr, size in self.mallocs.items() \n",
    "                                       if region_start <= addr < region_end])\n",
    "            \n",
    "            # Check for space at the beginning of the region\n",
    "            if not allocated_spaces or allocated_spaces[0][0] - region_start >= size:\n",
    "                new_addr = region_start\n",
    "                self.mallocs[new_addr] = size\n",
    "                return new_addr\n",
    "            \n",
    "            # Check for spaces between allocations\n",
    "            for i in range(len(allocated_spaces) - 1):\n",
    "                if allocated_spaces[i+1][0] - allocated_spaces[i][1] >= size:\n",
    "                    new_addr = allocated_spaces[i][1]\n",
    "                    self.mallocs[new_addr] = size\n",
    "                    return new_addr\n",
    "            \n",
    "            # Check for space at the end of the region\n",
    "            if region_end - allocated_spaces[-1][1] >= size:\n",
    "                new_addr = allocated_spaces[-1][1]\n",
    "                self.mallocs[new_addr] = size\n",
    "                return new_addr\n",
    "\n",
    "        # If we don't have space, request a new memory region from the OS\n",
    "        address, mmap_size = self.os.mmap(self.pid, size)\n",
    "        self.mallocs[address] = size\n",
    "        return address\n",
    "    \n",
    "    def free(self, address):\n",
    "        if address in self.mallocs:\n",
    "            del self.mallocs[address]\n",
    "        else:\n",
    "            self.os.free(self.pid, address)\n",
    "\n",
    "    # def malloc(self, size):\n",
    "        \n",
    "    #     address, mmap_size = self.os.mmap(self.pid, size)\n",
    "    #     return address\n",
    "    \n",
    "    # def free(self, address):\n",
    "    #     self.os.free(self.pid, address)\n",
    "    \n",
    "    def read_memory(self, address):\n",
    "        return self.os.read_memory(self.pid, address)\n",
    "    \n",
    "    def write_memory(self, address, value):\n",
    "        self.os.write_memory(self.pid, address, value)\n",
    "\n",
    "class BaseProgram:\n",
    "    def __init__(self, process):\n",
    "        self.process = process\n",
    "        self.variables = {}\n",
    "\n",
    "    def allocate_variable(self, name, size):\n",
    "        address = self.process.malloc(size)\n",
    "        self.variables[name] = {'address': address, 'size': size}\n",
    "        print(f\"Allocated variable '{name}' of size {size} at address {address}\")\n",
    "\n",
    "    def set_variable(self, name, value):\n",
    "        if name not in self.variables:\n",
    "            raise ValueError(f\"Variable '{name}' not allocated\")\n",
    "        address = self.variables[name]['address']\n",
    "        if isinstance(value, int):\n",
    "            self.process.write_memory(address, value)\n",
    "        elif isinstance(value, str):\n",
    "            for i, char in enumerate(value):\n",
    "                self.process.write_memory(address + i, ord(char))\n",
    "        print(f\"Set value of variable '{name}' to {value}\")\n",
    "\n",
    "    def get_variable(self, name):\n",
    "        if name not in self.variables:\n",
    "            raise ValueError(f\"Variable '{name}' not allocated\")\n",
    "        address = self.variables[name]['address']\n",
    "        size = self.variables[name]['size']\n",
    "        values = [self.process.read_memory(address + i) for i in range(size)]\n",
    "        print(f\"Value of variable '{name}': {values}\")\n",
    "        return values\n",
    "\n",
    "    def free_variable(self, name):\n",
    "        if name not in self.variables:\n",
    "            raise ValueError(f\"Variable '{name}' not allocated\")\n",
    "        address = self.variables[name]['address']\n",
    "        self.process.free(address)\n",
    "        del self.variables[name]\n",
    "        print(f\"Freed variable '{name}'\")\n",
    "\n",
    "    def dump_memory(self):\n",
    "        print(f\"Memory Dump for Program (PID: {self.process.pid}):\")\n",
    "        for name, info in self.variables.items():\n",
    "            address, size = info['address'], info['size']\n",
    "            print(f\"\\nVariable: {name}\")\n",
    "            for i in range(0, size, 16):\n",
    "                chunk = [self.process.read_memory(address + j) for j in range(i, min(i+16, size))]\n",
    "                hex_values = ' '.join([f'{b:02x}' for b in chunk])\n",
    "                ascii_values = ''.join([chr(b) if 32 <= b < 127 else '.' for b in chunk])\n",
    "                print(f'{address+i:04x}: {hex_values:<48} {ascii_values}')\n",
    "\n",
    "    def get_memory_usage(self):\n",
    "        return [(name, info['size'], info['address']) for name, info in self.variables.items()]\n",
    "\n",
    "    def execute_step(self, step_number):\n",
    "        method_name = f'step_{step_number}'\n",
    "        if hasattr(self, method_name):\n",
    "            getattr(self, method_name)()\n",
    "        else:\n",
    "            print(f\"Step {step_number} not found\")\n",
    "\n",
    "def visualize_memory(os):\n",
    "    # Create subplots: one for OS, one for each program\n",
    "    fig = make_subplots(rows=1 + len(os.programs), cols=1, \n",
    "                        subplot_titles=['OS Memory'] + [f'Program {pid} Memory' for pid in os.programs])\n",
    "\n",
    "    # OS Memory\n",
    "    os_memory = os.get_memory_usage()\n",
    "    for start, size, label in os_memory:\n",
    "        fig.add_trace(\n",
    "            go.Bar(x=[size], y=[label], orientation='h', name=label, \n",
    "                   text=f\"Start: {start}, Size: {size}\", textposition='auto'),\n",
    "            row=1, col=1\n",
    "        )\n",
    "\n",
    "    # Program Memory\n",
    "    for i, (pid, program) in enumerate(os.programs.items(), start=2):\n",
    "        prog_memory = program.get_memory_usage()\n",
    "        for name, size, address in prog_memory:\n",
    "            fig.add_trace(\n",
    "                go.Bar(x=[size], y=[name], orientation='h', name=name, \n",
    "                       text=f\"Address: {address}, Size: {size}\", textposition='auto'),\n",
    "                row=i, col=1\n",
    "            )\n",
    "\n",
    "    fig.update_layout(height=300 * (1 + len(os.programs)), width=800, showlegend=False)\n",
    "    fig.show()\n",
    "\n",
    "            \n",
    "# Base classes for student implementation\n",
    "class BaseVirtualMemoryManager:\n",
    "    def __init__(self, physical_memory, secondary_storage):\n",
    "        self.physical_memory = physical_memory\n",
    "        self.secondary_storage = secondary_storage\n",
    "        self.free_pages = set(range(TOTAL_PAGES))\n",
    "        self.page_queue = []  # For FIFO page replacement\n",
    "\n",
    "    def handle_page_fault(self, process, virtual_page_number):\n",
    "        raise NotImplementedError(\"Subclasses must implement this method\")\n",
    "\n",
    "    def evict_page(self, process, virtual_page_number):\n",
    "        raise NotImplementedError(\"Subclasses must implement this method\")\n",
    "\n",
    "class BaseOS:\n",
    "    def __init__(self):\n",
    "        self.physical_memory = PhysicalMemory(PHYSICAL_MEMORY_SIZE)\n",
    "        self.secondary_storage = SecondaryStorage()\n",
    "        self.virtual_memory_manager = None  # Will be set in subclass\n",
    "        self.processes = {}\n",
    "        self.next_pid = 1\n",
    "        self.virtual_memory_enabled = False\n",
    "        self.programs = {}\n",
    "    \n",
    "    def create_process(self):\n",
    "        pid = self.next_pid\n",
    "        self.next_pid += 1\n",
    "        process = Process(pid, self)\n",
    "        self.processes[pid] = process\n",
    "        return process\n",
    "    \n",
    "    def terminate_process(self, pid):\n",
    "        if pid in self.processes:\n",
    "            process = self.processes[pid]\n",
    "            for start_address, size in process.memory_regions.items():\n",
    "                self.free(pid, start_address)\n",
    "            del self.processes[pid]\n",
    "    \n",
    "    def mmap(self, pid, size):\n",
    "        return self.malloc(pid, size)\n",
    "    def malloc(self, pid, size):\n",
    "        raise NotImplementedError(\"Subclasses must implement this method\")\n",
    "    \n",
    "    def free(self, pid, address):\n",
    "        raise NotImplementedError(\"Subclasses must implement this method\")\n",
    "    \n",
    "    def read_memory(self, pid, address):\n",
    "        raise NotImplementedError(\"Subclasses must implement this method\")\n",
    "    \n",
    "    def write_memory(self, pid, address, value):\n",
    "        raise NotImplementedError(\"Subclasses must implement this method\")\n",
    "    \n",
    "    def handle_page_fault(self, pid, virtual_address):\n",
    "        raise NotImplementedError(\"Subclasses must implement this method\")\n",
    "    \n",
    "    def translate_address(self, pid, virtual_address):\n",
    "        raise NotImplementedError(\"Subclasses must implement this method\")\n",
    "    \n",
    "    def set_virtual_memory_enabled(self, enabled):\n",
    "        self.virtual_memory_enabled = enabled\n",
    "        print(f\"Virtual Memory {'Enabled' if enabled else 'Disabled'}\")\n",
    "    \n",
    "    def create_program(self, program_class):\n",
    "        process = self.create_process()\n",
    "        program = program_class(process)\n",
    "        self.programs[process.pid] = program\n",
    "        return process.pid\n",
    "\n",
    "    def execute_program_step(self, pid, step_number):\n",
    "        if pid not in self.programs:\n",
    "            raise ValueError(f\"No program found with PID {pid}\")\n",
    "        self.programs[pid].execute_step(step_number)\n",
    "\n",
    "    def dump_memory(self):\n",
    "        print(\"Physical Memory Dump:\")\n",
    "        for i in range(0, len(self.physical_memory.memory), 16):\n",
    "            chunk = self.physical_memory.memory[i:i+16]\n",
    "            hex_values = ' '.join([f'{b:02x}' for b in chunk])\n",
    "            ascii_values = ''.join([chr(b) if 32 <= b < 127 else '.' for b in chunk])\n",
    "            print(f'{i:04x}: {hex_values:<48} {ascii_values}')\n",
    "\n",
    "    def get_memory_usage(self):\n",
    "        memory_usage = []\n",
    "        for pid, process in self.processes.items():\n",
    "            for start_address, size in process.memory_regions.items():\n",
    "                memory_usage.append((start_address, size, f\"Process {pid}\"))\n",
    "        \n",
    "        memory_usage.sort(key=lambda x: x[0])\n",
    "        \n",
    "        free_spaces = []\n",
    "        last_end = 0\n",
    "        for start, size, _ in memory_usage:\n",
    "            if start > last_end:\n",
    "                free_spaces.append((last_end, start - last_end, \"Free\"))\n",
    "            last_end = start + size\n",
    "        if last_end < PHYSICAL_MEMORY_SIZE:\n",
    "            free_spaces.append((last_end, PHYSICAL_MEMORY_SIZE - last_end, \"Free\"))\n",
    "        \n",
    "        memory_usage.extend(free_spaces)\n",
    "        memory_usage.sort(key=lambda x: x[0])\n",
    "        \n",
    "        return memory_usage\n",
    "    \n",
    "    def dump_hard_drive(self):\n",
    "        print(\"Secondary Storage (Hard Drive) Dump:\")\n",
    "        if not self.secondary_storage.storage:\n",
    "            print(\"  The secondary storage is empty.\")\n",
    "            return\n",
    "\n",
    "        for page_id, data in self.secondary_storage.storage.items():\n",
    "            pid, vpn = page_id\n",
    "            print(f\"  Page (PID: {pid}, VPN: {vpn}):\")\n",
    "            for i in range(0, len(data), 16):\n",
    "                chunk = data[i:i+16]\n",
    "                hex_values = ' '.join([f'{b:02x}' for b in chunk])\n",
    "                ascii_values = ''.join([chr(b) if 32 <= b < 127 else '.' for b in chunk])\n",
    "                print(f\"    {i:04x}: {hex_values:<48} {ascii_values}\")"
   ]
  },
  {
   "cell_type": "code",
   "execution_count": 1010,
   "metadata": {},
   "outputs": [
    {
     "name": "stderr",
     "output_type": "stream",
     "text": [
      "test_basic_malloc (__main__.TestBrandieOS.test_basic_malloc) ... ERROR\n",
      "test_free_and_reallocate (__main__.TestBrandieOS.test_free_and_reallocate) ... ERROR\n",
      "test_malloc_and_free (__main__.TestBrandieOS.test_malloc_and_free) ... ERROR\n",
      "test_multiple_processes (__main__.TestBrandieOS.test_multiple_processes) ... ERROR\n",
      "test_out_of_memory (__main__.TestBrandieOS.test_out_of_memory) ... ok\n",
      "test_process_isolation (__main__.TestBrandieOS.test_process_isolation) ... ERROR\n",
      "test_read_write_memory (__main__.TestBrandieOS.test_read_write_memory) ... ERROR\n",
      "test_virtual_memory (__main__.TestBrandieOS.test_virtual_memory) ... ERROR\n",
      "test_virtual_memory_paging (__main__.TestBrandieOS.test_virtual_memory_paging) ... ERROR\n",
      "test_virtual_memory_paging_with_secondary_storage (__main__.TestBrandieOS.test_virtual_memory_paging_with_secondary_storage) ... ERROR\n",
      "\n",
      "======================================================================\n",
      "ERROR: test_basic_malloc (__main__.TestBrandieOS.test_basic_malloc)\n",
      "----------------------------------------------------------------------\n",
      "Traceback (most recent call last):\n",
      "  File \"C:\\Users\\jrbac\\AppData\\Local\\Temp\\ipykernel_56088\\3562096079.py\", line 212, in test_basic_malloc\n",
      "    addr1 = process.malloc(32)\n",
      "            ^^^^^^^^^^^^^^^^^^\n",
      "  File \"C:\\Users\\jrbac\\AppData\\Local\\Temp\\ipykernel_56088\\1440373296.py\", line 84, in malloc\n",
      "    address, mmap_size = self.os.mmap(self.pid, size)\n",
      "    ^^^^^^^^^^^^^^^^^^\n",
      "TypeError: cannot unpack non-iterable int object\n",
      "\n",
      "======================================================================\n",
      "ERROR: test_free_and_reallocate (__main__.TestBrandieOS.test_free_and_reallocate)\n",
      "----------------------------------------------------------------------\n",
      "Traceback (most recent call last):\n",
      "  File \"C:\\Users\\jrbac\\AppData\\Local\\Temp\\ipykernel_56088\\2197975574.py\", line 61, in test_free_and_reallocate\n",
      "    addr1 = process.malloc(64)\n",
      "            ^^^^^^^^^^^^^^^^^^\n",
      "  File \"C:\\Users\\jrbac\\AppData\\Local\\Temp\\ipykernel_56088\\1440373296.py\", line 84, in malloc\n",
      "    address, mmap_size = self.os.mmap(self.pid, size)\n",
      "    ^^^^^^^^^^^^^^^^^^\n",
      "TypeError: cannot unpack non-iterable int object\n",
      "\n",
      "======================================================================\n",
      "ERROR: test_malloc_and_free (__main__.TestBrandieOS.test_malloc_and_free)\n",
      "----------------------------------------------------------------------\n",
      "Traceback (most recent call last):\n",
      "  File \"C:\\Users\\jrbac\\AppData\\Local\\Temp\\ipykernel_56088\\2197975574.py\", line 12, in test_malloc_and_free\n",
      "    addr1 = process.malloc(32)\n",
      "            ^^^^^^^^^^^^^^^^^^\n",
      "  File \"C:\\Users\\jrbac\\AppData\\Local\\Temp\\ipykernel_56088\\1440373296.py\", line 84, in malloc\n",
      "    address, mmap_size = self.os.mmap(self.pid, size)\n",
      "    ^^^^^^^^^^^^^^^^^^\n",
      "TypeError: cannot unpack non-iterable int object\n",
      "\n",
      "======================================================================\n",
      "ERROR: test_multiple_processes (__main__.TestBrandieOS.test_multiple_processes)\n",
      "----------------------------------------------------------------------\n",
      "Traceback (most recent call last):\n",
      "  File \"C:\\Users\\jrbac\\AppData\\Local\\Temp\\ipykernel_56088\\2197975574.py\", line 93, in test_multiple_processes\n",
      "    addresses = [process.malloc(PAGE_SIZE) for process in processes]\n",
      "                 ^^^^^^^^^^^^^^^^^^^^^^^^^\n",
      "  File \"C:\\Users\\jrbac\\AppData\\Local\\Temp\\ipykernel_56088\\1440373296.py\", line 84, in malloc\n",
      "    address, mmap_size = self.os.mmap(self.pid, size)\n",
      "    ^^^^^^^^^^^^^^^^^^\n",
      "TypeError: cannot unpack non-iterable int object\n",
      "\n",
      "======================================================================\n",
      "ERROR: test_process_isolation (__main__.TestBrandieOS.test_process_isolation)\n",
      "----------------------------------------------------------------------\n",
      "Traceback (most recent call last):\n",
      "  File \"C:\\Users\\jrbac\\AppData\\Local\\Temp\\ipykernel_56088\\2197975574.py\", line 43, in test_process_isolation\n",
      "    addr1 = process1.malloc(16)\n",
      "            ^^^^^^^^^^^^^^^^^^^\n",
      "  File \"C:\\Users\\jrbac\\AppData\\Local\\Temp\\ipykernel_56088\\1440373296.py\", line 84, in malloc\n",
      "    address, mmap_size = self.os.mmap(self.pid, size)\n",
      "    ^^^^^^^^^^^^^^^^^^\n",
      "TypeError: cannot unpack non-iterable int object\n",
      "\n",
      "======================================================================\n",
      "ERROR: test_read_write_memory (__main__.TestBrandieOS.test_read_write_memory)\n",
      "----------------------------------------------------------------------\n",
      "Traceback (most recent call last):\n",
      "  File \"C:\\Users\\jrbac\\AppData\\Local\\Temp\\ipykernel_56088\\2197975574.py\", line 24, in test_read_write_memory\n",
      "    addr = process.malloc(16)\n",
      "           ^^^^^^^^^^^^^^^^^^\n",
      "  File \"C:\\Users\\jrbac\\AppData\\Local\\Temp\\ipykernel_56088\\1440373296.py\", line 84, in malloc\n",
      "    address, mmap_size = self.os.mmap(self.pid, size)\n",
      "    ^^^^^^^^^^^^^^^^^^\n",
      "TypeError: cannot unpack non-iterable int object\n",
      "\n",
      "======================================================================\n",
      "ERROR: test_virtual_memory (__main__.TestBrandieOS.test_virtual_memory)\n",
      "----------------------------------------------------------------------\n",
      "Traceback (most recent call last):\n",
      "  File \"C:\\Users\\jrbac\\AppData\\Local\\Temp\\ipykernel_56088\\2197975574.py\", line 33, in test_virtual_memory\n",
      "    addr = process.malloc(PHYSICAL_MEMORY_SIZE * 2)  # Allocate more than physical memory\n",
      "           ^^^^^^^^^^^^^^^^^^^^^^^^^^^^^^^^^^^^^^^^\n",
      "  File \"C:\\Users\\jrbac\\AppData\\Local\\Temp\\ipykernel_56088\\1440373296.py\", line 84, in malloc\n",
      "    address, mmap_size = self.os.mmap(self.pid, size)\n",
      "    ^^^^^^^^^^^^^^^^^^\n",
      "TypeError: cannot unpack non-iterable int object\n",
      "\n",
      "======================================================================\n",
      "ERROR: test_virtual_memory_paging (__main__.TestBrandieOS.test_virtual_memory_paging)\n",
      "----------------------------------------------------------------------\n",
      "Traceback (most recent call last):\n",
      "  File \"C:\\Users\\jrbac\\AppData\\Local\\Temp\\ipykernel_56088\\2197975574.py\", line 70, in test_virtual_memory_paging\n",
      "    addr = process.malloc(PAGE_SIZE * 2)  # Allocate 2 pages\n",
      "           ^^^^^^^^^^^^^^^^^^^^^^^^^^^^^\n",
      "  File \"C:\\Users\\jrbac\\AppData\\Local\\Temp\\ipykernel_56088\\1440373296.py\", line 84, in malloc\n",
      "    address, mmap_size = self.os.mmap(self.pid, size)\n",
      "    ^^^^^^^^^^^^^^^^^^\n",
      "TypeError: cannot unpack non-iterable int object\n",
      "\n",
      "======================================================================\n",
      "ERROR: test_virtual_memory_paging_with_secondary_storage (__main__.TestBrandieOS.test_virtual_memory_paging_with_secondary_storage)\n",
      "----------------------------------------------------------------------\n",
      "Traceback (most recent call last):\n",
      "  File \"C:\\Users\\jrbac\\AppData\\Local\\Temp\\ipykernel_56088\\2197975574.py\", line 113, in test_virtual_memory_paging_with_secondary_storage\n",
      "    addr = process.malloc(total_size)\n",
      "           ^^^^^^^^^^^^^^^^^^^^^^^^^^\n",
      "  File \"C:\\Users\\jrbac\\AppData\\Local\\Temp\\ipykernel_56088\\1440373296.py\", line 84, in malloc\n",
      "    address, mmap_size = self.os.mmap(self.pid, size)\n",
      "    ^^^^^^^^^^^^^^^^^^\n",
      "TypeError: cannot unpack non-iterable int object\n",
      "\n",
      "----------------------------------------------------------------------\n",
      "Ran 10 tests in 0.013s\n",
      "\n",
      "FAILED (errors=9)\n"
     ]
    },
    {
     "name": "stdout",
     "output_type": "stream",
     "text": [
      "Virtual Memory Enabled\n",
      "Virtual Memory Enabled\n",
      "Virtual Memory Enabled\n",
      "Virtual Memory Enabled\n",
      "Virtual Memory Enabled\n"
     ]
    },
    {
     "data": {
      "text/plain": [
       "<unittest.runner.TextTestResult run=10 errors=9 failures=0>"
      ]
     },
     "execution_count": 1010,
     "metadata": {},
     "output_type": "execute_result"
    }
   ],
   "source": [
    "class BrandieOS(BaseOS):\n",
    "    def __init__(self):\n",
    "        super().__init__()\n",
    "        self.virtual_memory_manager = BrandieVirtualMemoryManager(self.physical_memory, self.secondary_storage)\n",
    "        self.free_list = [(0, PHYSICAL_MEMORY_SIZE)]\n",
    "        self.next_virtual_address = 0\n",
    "\n",
    "        self.next_addr = 0 # -> 12\n",
    "\n",
    "    def malloc(self, pid, size):\n",
    "        \n",
    "        addr = self.next_addr\n",
    "        self.next_addr = self.next_addr + size\n",
    "        return addr\n",
    "\n",
    "    def free(self, pid, address):\n",
    "        \"\"\"\n",
    "        Free previously allocated memory.\n",
    "        \n",
    "        Steps:\n",
    "        1. Check if the address belongs to the process\n",
    "        2. Remove the memory region from the process\n",
    "        3. If virtual memory is not enabled, add the freed memory to the free list\n",
    "        4. If virtual memory is enabled, update page tables and free physical pages\n",
    "\n",
    "        Note: Be careful to properly handle merging of adjacent free memory regions\n",
    "        \"\"\"\n",
    "        process = self.processes[pid]\n",
    "        \n",
    "        # TODO: Implement memory freeing logic here\n",
    "        \n",
    "        raise NotImplementedError(\"free method not implemented\")\n",
    "\n",
    "    def read_memory(self, pid, address):\n",
    "        \"\"\"\n",
    "        Read a byte from memory.\n",
    "        \n",
    "        Steps:\n",
    "        1. Check if the address belongs to the process\n",
    "        2. If virtual memory is enabled, translate the virtual address to physical\n",
    "        3. Read the byte from physical memory\n",
    "        4. Handle page faults if they occur during address translation\n",
    "\n",
    "        Note: Ensure proper error handling for invalid memory accesses\n",
    "        \"\"\"\n",
    "        if not self._address_belongs_to_process(pid, address):\n",
    "            raise Exception(f\"Memory access violation: Process {pid} cannot access address {address}\")\n",
    "        \n",
    "        # TODO: Implement memory reading logic here\n",
    "        \n",
    "        raise NotImplementedError(\"read_memory method not implemented\")\n",
    "\n",
    "    def write_memory(self, pid, address, value):\n",
    "        \"\"\"\n",
    "        Write a byte to memory.\n",
    "        \n",
    "        Steps:\n",
    "        1. Check if the address belongs to the process\n",
    "        2. If virtual memory is enabled, translate the virtual address to physical\n",
    "        3. Write the byte to physical memory\n",
    "        4. Handle page faults if they occur during address translation\n",
    "        5. If virtual memory is enabled, mark the page as dirty\n",
    "\n",
    "        Note: Ensure proper error handling for invalid memory accesses\n",
    "        \"\"\"\n",
    "        if not self._address_belongs_to_process(pid, address):\n",
    "            raise Exception(f\"Memory access violation: Process {pid} cannot access address {address}\")\n",
    "        \n",
    "        # TODO: Implement memory writing logic here\n",
    "        \n",
    "        self.physical_memory.write_byte(address, value)\n",
    "        # raise NotImplementedError(\"write_memory method not implemented\")\n",
    "\n",
    "    def _address_belongs_to_process(self, pid, address):\n",
    "        \"\"\"\n",
    "        Check if an address belongs to a process.\n",
    "        \n",
    "        Steps:\n",
    "        1. Get the process object\n",
    "        2. Iterate through the process's memory regions\n",
    "        3. Check if the address falls within any of the regions\n",
    "\n",
    "        Note: This method is crucial for ensuring memory protection between processes\n",
    "        \"\"\"\n",
    "        process = self.processes[pid]\n",
    "        \n",
    "        # TODO: Implement address checking logic here\n",
    "        \n",
    "        return True\n",
    "        # raise NotImplementedError(\"_address_belongs_to_process method not implemented\")\n",
    "\n",
    "    def handle_page_fault(self, pid, virtual_address):\n",
    "        \"\"\"\n",
    "        Handle a page fault.\n",
    "        \n",
    "        Steps:\n",
    "        1. Calculate the virtual page number from the virtual address\n",
    "        2. Call the virtual memory manager's handle_page_fault method\n",
    "        3. Update the process's page table with the new mapping\n",
    "        4. Return the physical page number\n",
    "\n",
    "        Note: This method is key to implementing demand paging\n",
    "        \"\"\"\n",
    "        process = self.processes[pid]\n",
    "        virtual_page = virtual_address // PAGE_SIZE\n",
    "        \n",
    "        # TODO: Implement page fault handling logic here\n",
    "        \n",
    "        raise NotImplementedError(\"handle_page_fault method not implemented\")\n",
    "\n",
    "    def translate_address(self, pid, virtual_address):\n",
    "        \"\"\"\n",
    "        Translate a virtual address to a physical address.\n",
    "        \n",
    "        Steps:\n",
    "        1. If virtual memory is not enabled, return the address as-is\n",
    "        2. Calculate the virtual page number and offset\n",
    "        3. Look up the page table entry for the virtual page\n",
    "        4. If the page is not present, handle the page fault\n",
    "        5. Combine the physical page number with the offset to get the physical address\n",
    "\n",
    "        Note: This method is central to the virtual memory system\n",
    "        \"\"\"\n",
    "        if not self.virtual_memory_enabled:\n",
    "            return virtual_address\n",
    "        \n",
    "        process = self.processes[pid]\n",
    "        virtual_page = virtual_address // PAGE_SIZE\n",
    "        offset = virtual_address % PAGE_SIZE\n",
    "        \n",
    "        # TODO: Implement address translation logic here\n",
    "        \n",
    "        raise NotImplementedError(\"translate_address method not implemented\")\n",
    "\n",
    "    def set_virtual_memory_enabled(self, enabled):\n",
    "        \"\"\"\n",
    "        Enable or disable virtual memory.\n",
    "        \n",
    "        Steps:\n",
    "        1. Set the virtual_memory_enabled flag\n",
    "        2. If enabling, initialize the virtual address space\n",
    "        3. If disabling, ensure all pages are written back to secondary storage\n",
    "\n",
    "        Note: This method allows switching between physical and virtual memory modes\n",
    "        \"\"\"\n",
    "        self.virtual_memory_enabled = enabled\n",
    "        if enabled:\n",
    "            self.next_virtual_address = 0  # Reset virtual address space when enabling VM\n",
    "        print(f\"Virtual Memory {'Enabled' if enabled else 'Disabled'}\")\n",
    "\n",
    "class BrandieVirtualMemoryManager(BaseVirtualMemoryManager):\n",
    "    def handle_page_fault(self, process, virtual_page_number):\n",
    "        \"\"\"\n",
    "        Handle a page fault by loading the required page into memory.\n",
    "        \n",
    "        Steps:\n",
    "        1. Check if there are free physical pages\n",
    "        2. If not, evict a page to make room\n",
    "        3. Allocate a physical page\n",
    "        4. Load the page data from secondary storage\n",
    "        5. Update the page table\n",
    "        6. Return the physical page number\n",
    "\n",
    "        Note: This method is crucial for implementing demand paging\n",
    "        \"\"\"\n",
    "        # TODO: Implement page fault handling logic here\n",
    "        \n",
    "        raise NotImplementedError(\"handle_page_fault method not implemented\")\n",
    "\n",
    "    def evict_page(self, process, virtual_page_number):\n",
    "        \"\"\"\n",
    "        Evict a page from physical memory.\n",
    "        \n",
    "        Steps:\n",
    "        1. Choose a page to evict (e.g., using FIFO or LRU policy)\n",
    "        2. If the page is dirty, write it back to secondary storage\n",
    "        3. Update the page table to mark the page as not present\n",
    "        4. Return the freed physical page number\n",
    "\n",
    "        Note: The eviction policy can significantly affect system performance\n",
    "        \"\"\"\n",
    "        # TODO: Implement page eviction logic here\n",
    "        \n",
    "        raise NotImplementedError(\"evict_page method not implemented\")\n",
    "\n",
    "\"\"\"\n",
    "Suggested Order of Implementation:\n",
    "\n",
    "1. Implement physical memory allocation (malloc) without virtual memory\n",
    "2. Implement physical memory deallocation (free) without virtual memory\n",
    "3. Implement read_memory and write_memory for physical memory\n",
    "4. Implement _address_belongs_to_process method\n",
    "5. Implement set_virtual_memory_enabled method\n",
    "6. Implement virtual memory allocation in malloc\n",
    "7. Implement page table and page table entry structures\n",
    "8. Implement translate_address method for virtual memory\n",
    "9. Implement handle_page_fault method\n",
    "10. Update read_memory and write_memory to use virtual memory when enabled\n",
    "11. Implement evict_page method in VirtualMemoryManager\n",
    "12. Update free method to handle virtual memory deallocation\n",
    "13. Implement remaining helper methods and optimizations\n",
    "\"\"\"\n",
    "\n",
    "class TestBrandieOS(TestOS):\n",
    "    def create_os(self):\n",
    "        return BrandieOS()\n",
    "    \n",
    "    def test_basic_malloc(self):\n",
    "        process = self.os.create_process()\n",
    "        \n",
    "        # Allocate some memory\n",
    "        addr1 = process.malloc(32)\n",
    "        self.assertEqual(addr1, 0, \"First allocation should start at address 0\")\n",
    "        \n",
    "        # Allocate more memory\n",
    "        addr2 = process.malloc(64)\n",
    "        self.assertEqual(addr2, 32, \"Second allocation should start after the first\")\n",
    "        \n",
    "        # Check that allocations are recorded correctly\n",
    "        self.assertIn(0, process.memory_regions, \"First allocation should be recorded\")\n",
    "        self.assertEqual(process.memory_regions[0], 32, \"First allocation size should be correct\")\n",
    "        self.assertIn(32, process.memory_regions, \"Second allocation should be recorded\")\n",
    "        self.assertEqual(process.memory_regions[32], 64, \"Second allocation size should be correct\")\n",
    "\n",
    "\n",
    "suite = unittest.TestLoader().loadTestsFromTestCase(TestBrandieOS)\n",
    "unittest.TextTestRunner(verbosity=2).run(suite)"
   ]
  },
  {
   "cell_type": "code",
   "execution_count": 1011,
   "metadata": {},
   "outputs": [
    {
     "name": "stdout",
     "output_type": "stream",
     "text": [
      "=================================\n",
      "============ SANDBOX ============\n",
      "=================================\n",
      "Virtual Memory Enabled\n",
      "Allocated variable 'var1' of size 8 at address 0\n",
      "Set value of variable 'var1' to ABC abc\n",
      "Allocated variable 'var2' of size 4 at address 8\n",
      "Set value of variable 'var2' to mac \n",
      "Physical Memory Dump:\n",
      "0000: 41 42 43 20 61 62 63 00 6d 61 63 20 00 00 00 00  ABC abc.mac ....\n",
      "0010: 00 00 00 00 00 00 00 00 00 00 00 00 00 00 00 00  ................\n",
      "0020: 00 00 00 00 00 00 00 00 00 00 00 00 00 00 00 00  ................\n",
      "0030: 00 00 00 00 00 00 00 00 00 00 00 00 00 00 00 00  ................\n",
      "0040: 00 00 00 00 00 00 00 00 00 00 00 00 00 00 00 00  ................\n",
      "0050: 00 00 00 00 00 00 00 00 00 00 00 00 00 00 00 00  ................\n",
      "0060: 00 00 00 00 00 00 00 00 00 00 00 00 00 00 00 00  ................\n",
      "0070: 00 00 00 00 00 00 00 00 00 00 00 00 00 00 00 00  ................\n",
      "0080: 00 00 00 00 00 00 00 00 00 00 00 00 00 00 00 00  ................\n",
      "0090: 00 00 00 00 00 00 00 00 00 00 00 00 00 00 00 00  ................\n",
      "00a0: 00 00 00 00 00 00 00 00 00 00 00 00 00 00 00 00  ................\n",
      "00b0: 00 00 00 00 00 00 00 00 00 00 00 00 00 00 00 00  ................\n",
      "00c0: 00 00 00 00 00 00 00 00 00 00 00 00 00 00 00 00  ................\n",
      "00d0: 00 00 00 00 00 00 00 00 00 00 00 00 00 00 00 00  ................\n",
      "00e0: 00 00 00 00 00 00 00 00 00 00 00 00 00 00 00 00  ................\n",
      "00f0: 00 00 00 00 00 00 00 00 00 00 00 00 00 00 00 00  ................\n",
      "Secondary Storage (Hard Drive) Dump:\n",
      "  The secondary storage is empty.\n",
      "Memory Dump for Program (PID: 1):\n",
      "\n",
      "Variable: var1\n",
      "0000: 41 42 43 20 61 62 63 00                          ABC abc.\n",
      "\n",
      "Variable: var2\n",
      "0008: 6d 61 63 20                                      mac \n",
      "Allocated variable 'var3' of size 256 at address 16\n",
      "Set value of variable 'var3' to aaaaaaaaaaaaaaaaaaaaaaaaaaaaaaaaaaaaaaaaaaaaaaaaaaaaaaaaaaaaaaaaaaaaaaaaaaaaaaaaaaaaaaaaaaaaaaaaaaaaaaaaaaaaaaaaaaaaaaaaaaaaaaaaaaaaaaaaaaaaaaaaaaaaaaaaaaaaaaaaaaaaaaaaaaaaaaaaaaaaaaaaaaaaaaaaaaaaaaaaaaaaaaaaaaaaaaaaaaaaaaaaaaaaaaaaaaaaaaaaaaaaaaaaaaaaaaaa\n",
      "Physical Memory Dump:\n",
      "0000: 61 61 61 61 61 61 61 61 61 61 61 61 61 61 61 61  aaaaaaaaaaaaaaaa\n",
      "0010: 61 61 61 61 61 61 61 61 61 61 61 61 61 61 61 61  aaaaaaaaaaaaaaaa\n",
      "0020: 61 61 61 61 61 61 61 61 61 61 61 61 61 61 61 61  aaaaaaaaaaaaaaaa\n",
      "0030: 61 61 61 61 61 61 61 61 61 61 61 61 61 61 61 61  aaaaaaaaaaaaaaaa\n",
      "0040: 61 61 61 61 61 61 61 61 61 61 61 61 61 61 61 61  aaaaaaaaaaaaaaaa\n",
      "0050: 61 61 61 61 61 61 61 61 61 61 61 61 61 61 61 61  aaaaaaaaaaaaaaaa\n",
      "0060: 61 61 61 61 61 61 61 61 61 61 61 61 61 61 61 61  aaaaaaaaaaaaaaaa\n",
      "0070: 61 61 61 61 61 61 61 61 61 61 61 61 61 61 61 61  aaaaaaaaaaaaaaaa\n",
      "0080: 61 61 61 61 61 61 61 61 61 61 61 61 61 61 61 61  aaaaaaaaaaaaaaaa\n",
      "0090: 61 61 61 61 61 61 61 61 61 61 61 61 61 61 61 61  aaaaaaaaaaaaaaaa\n",
      "00a0: 61 61 61 61 61 61 61 61 61 61 61 61 61 61 61 61  aaaaaaaaaaaaaaaa\n",
      "00b0: 61 61 61 61 61 61 61 61 61 61 61 61 61 61 61 61  aaaaaaaaaaaaaaaa\n",
      "00c0: 61 61 61 61 61 61 61 61 61 61 61 61 61 61 61 61  aaaaaaaaaaaaaaaa\n",
      "00d0: 61 61 61 61 61 61 61 61 61 61 61 61 61 61 61 61  aaaaaaaaaaaaaaaa\n",
      "00e0: 61 61 61 61 61 61 61 61 61 61 61 61 61 61 61 61  aaaaaaaaaaaaaaaa\n",
      "00f0: 61 61 61 61 61 61 61 61 61 61 61 61 61 61 61 61  aaaaaaaaaaaaaaaa\n",
      "Secondary Storage (Hard Drive) Dump:\n",
      "  Page (PID: 1, VPN: 0):\n",
      "    0000: 41 42 43 20 61 62 63 00 6d 61 63 20 00 00 00 00  ABC abc.mac ....\n",
      "Memory Dump for Program (PID: 1):\n",
      "\n",
      "Variable: var1\n",
      "0000: 41 42 43 20 61 62 63 00                          ABC abc.\n",
      "\n",
      "Variable: var2\n",
      "0008: 6d 61 63 20                                      mac \n",
      "\n",
      "Variable: var3\n",
      "0010: 61 61 61 61 61 61 61 61 61 61 61 61 61 61 61 61  aaaaaaaaaaaaaaaa\n",
      "0020: 61 61 61 61 61 61 61 61 61 61 61 61 61 61 61 61  aaaaaaaaaaaaaaaa\n",
      "0030: 61 61 61 61 61 61 61 61 61 61 61 61 61 61 61 61  aaaaaaaaaaaaaaaa\n",
      "0040: 61 61 61 61 61 61 61 61 61 61 61 61 61 61 61 61  aaaaaaaaaaaaaaaa\n",
      "0050: 61 61 61 61 61 61 61 61 61 61 61 61 61 61 61 61  aaaaaaaaaaaaaaaa\n",
      "0060: 61 61 61 61 61 61 61 61 61 61 61 61 61 61 61 61  aaaaaaaaaaaaaaaa\n",
      "0070: 61 61 61 61 61 61 61 61 61 61 61 61 61 61 61 61  aaaaaaaaaaaaaaaa\n",
      "0080: 61 61 61 61 61 61 61 61 61 61 61 61 61 61 61 61  aaaaaaaaaaaaaaaa\n",
      "0090: 61 61 61 61 61 61 61 61 61 61 61 61 61 61 61 61  aaaaaaaaaaaaaaaa\n",
      "00a0: 61 61 61 61 61 61 61 61 61 61 61 61 61 61 61 61  aaaaaaaaaaaaaaaa\n",
      "00b0: 61 61 61 61 61 61 61 61 61 61 61 61 61 61 61 61  aaaaaaaaaaaaaaaa\n",
      "00c0: 61 61 61 61 61 61 61 61 61 61 61 61 61 61 61 61  aaaaaaaaaaaaaaaa\n",
      "00d0: 61 61 61 61 61 61 61 61 61 61 61 61 61 61 61 61  aaaaaaaaaaaaaaaa\n",
      "00e0: 61 61 61 61 61 61 61 61 61 61 61 61 61 61 61 61  aaaaaaaaaaaaaaaa\n",
      "00f0: 61 61 61 61 61 61 61 61 61 61 61 61 61 61 61 61  aaaaaaaaaaaaaaaa\n",
      "0100: 61 61 61 61 61 61 61 61 61 61 61 61 61 61 61 61  aaaaaaaaaaaaaaaa\n",
      "Value of variable 'var2': [109, 97, 99, 32]\n",
      "Physical Memory Dump:\n",
      "0000: 61 61 61 61 61 61 61 61 61 61 61 61 61 61 61 61  aaaaaaaaaaaaaaaa\n",
      "0010: 61 61 61 61 61 61 61 61 61 61 61 61 61 61 61 61  aaaaaaaaaaaaaaaa\n",
      "0020: 41 42 43 20 61 62 63 00 6d 61 63 20 00 00 00 00  ABC abc.mac ....\n",
      "0030: 61 61 61 61 61 61 61 61 61 61 61 61 61 61 61 61  aaaaaaaaaaaaaaaa\n",
      "0040: 61 61 61 61 61 61 61 61 61 61 61 61 61 61 61 61  aaaaaaaaaaaaaaaa\n",
      "0050: 61 61 61 61 61 61 61 61 61 61 61 61 61 61 61 61  aaaaaaaaaaaaaaaa\n",
      "0060: 61 61 61 61 61 61 61 61 61 61 61 61 61 61 61 61  aaaaaaaaaaaaaaaa\n",
      "0070: 61 61 61 61 61 61 61 61 61 61 61 61 61 61 61 61  aaaaaaaaaaaaaaaa\n",
      "0080: 61 61 61 61 61 61 61 61 61 61 61 61 61 61 61 61  aaaaaaaaaaaaaaaa\n",
      "0090: 61 61 61 61 61 61 61 61 61 61 61 61 61 61 61 61  aaaaaaaaaaaaaaaa\n",
      "00a0: 61 61 61 61 61 61 61 61 61 61 61 61 61 61 61 61  aaaaaaaaaaaaaaaa\n",
      "00b0: 61 61 61 61 61 61 61 61 61 61 61 61 61 61 61 61  aaaaaaaaaaaaaaaa\n",
      "00c0: 61 61 61 61 61 61 61 61 61 61 61 61 61 61 61 61  aaaaaaaaaaaaaaaa\n",
      "00d0: 61 61 61 61 61 61 61 61 61 61 61 61 61 61 61 61  aaaaaaaaaaaaaaaa\n",
      "00e0: 61 61 61 61 61 61 61 61 61 61 61 61 61 61 61 61  aaaaaaaaaaaaaaaa\n",
      "00f0: 61 61 61 61 61 61 61 61 61 61 61 61 61 61 61 61  aaaaaaaaaaaaaaaa\n",
      "Secondary Storage (Hard Drive) Dump:\n",
      "  Page (PID: 1, VPN: 0):\n",
      "    0000: 41 42 43 20 61 62 63 00 6d 61 63 20 00 00 00 00  ABC abc.mac ....\n",
      "  Page (PID: 1, VPN: 1):\n",
      "    0000: 61 61 61 61 61 61 61 61 61 61 61 61 61 61 61 61  aaaaaaaaaaaaaaaa\n",
      "  Page (PID: 1, VPN: 2):\n",
      "    0000: 61 61 61 61 61 61 61 61 61 61 61 61 61 61 61 61  aaaaaaaaaaaaaaaa\n",
      "  Page (PID: 1, VPN: 3):\n",
      "    0000: 61 61 61 61 61 61 61 61 61 61 61 61 61 61 61 61  aaaaaaaaaaaaaaaa\n",
      "  Page (PID: 1, VPN: 4):\n",
      "    0000: 61 61 61 61 61 61 61 61 61 61 61 61 61 61 61 61  aaaaaaaaaaaaaaaa\n",
      "  Page (PID: 1, VPN: 5):\n",
      "    0000: 61 61 61 61 61 61 61 61 61 61 61 61 61 61 61 61  aaaaaaaaaaaaaaaa\n",
      "  Page (PID: 1, VPN: 6):\n",
      "    0000: 61 61 61 61 61 61 61 61 61 61 61 61 61 61 61 61  aaaaaaaaaaaaaaaa\n",
      "  Page (PID: 1, VPN: 7):\n",
      "    0000: 61 61 61 61 61 61 61 61 61 61 61 61 61 61 61 61  aaaaaaaaaaaaaaaa\n",
      "  Page (PID: 1, VPN: 8):\n",
      "    0000: 61 61 61 61 61 61 61 61 61 61 61 61 61 61 61 61  aaaaaaaaaaaaaaaa\n",
      "  Page (PID: 1, VPN: 9):\n",
      "    0000: 61 61 61 61 61 61 61 61 61 61 61 61 61 61 61 61  aaaaaaaaaaaaaaaa\n",
      "  Page (PID: 1, VPN: 10):\n",
      "    0000: 61 61 61 61 61 61 61 61 61 61 61 61 61 61 61 61  aaaaaaaaaaaaaaaa\n",
      "  Page (PID: 1, VPN: 11):\n",
      "    0000: 61 61 61 61 61 61 61 61 61 61 61 61 61 61 61 61  aaaaaaaaaaaaaaaa\n",
      "  Page (PID: 1, VPN: 12):\n",
      "    0000: 61 61 61 61 61 61 61 61 61 61 61 61 61 61 61 61  aaaaaaaaaaaaaaaa\n",
      "  Page (PID: 1, VPN: 13):\n",
      "    0000: 61 61 61 61 61 61 61 61 61 61 61 61 61 61 61 61  aaaaaaaaaaaaaaaa\n",
      "  Page (PID: 1, VPN: 14):\n",
      "    0000: 61 61 61 61 61 61 61 61 61 61 61 61 61 61 61 61  aaaaaaaaaaaaaaaa\n",
      "  Page (PID: 1, VPN: 15):\n",
      "    0000: 61 61 61 61 61 61 61 61 61 61 61 61 61 61 61 61  aaaaaaaaaaaaaaaa\n",
      "  Page (PID: 1, VPN: 16):\n",
      "    0000: 61 61 61 61 61 61 61 61 61 61 61 61 61 61 61 61  aaaaaaaaaaaaaaaa\n",
      "Memory Dump for Program (PID: 1):\n",
      "\n",
      "Variable: var1\n",
      "0000: 41 42 43 20 61 62 63 00                          ABC abc.\n",
      "\n",
      "Variable: var2\n",
      "0008: 6d 61 63 20                                      mac \n",
      "\n",
      "Variable: var3\n",
      "0010: 61 61 61 61 61 61 61 61 61 61 61 61 61 61 61 61  aaaaaaaaaaaaaaaa\n",
      "0020: 61 61 61 61 61 61 61 61 61 61 61 61 61 61 61 61  aaaaaaaaaaaaaaaa\n",
      "0030: 61 61 61 61 61 61 61 61 61 61 61 61 61 61 61 61  aaaaaaaaaaaaaaaa\n",
      "0040: 61 61 61 61 61 61 61 61 61 61 61 61 61 61 61 61  aaaaaaaaaaaaaaaa\n",
      "0050: 61 61 61 61 61 61 61 61 61 61 61 61 61 61 61 61  aaaaaaaaaaaaaaaa\n",
      "0060: 61 61 61 61 61 61 61 61 61 61 61 61 61 61 61 61  aaaaaaaaaaaaaaaa\n",
      "0070: 61 61 61 61 61 61 61 61 61 61 61 61 61 61 61 61  aaaaaaaaaaaaaaaa\n",
      "0080: 61 61 61 61 61 61 61 61 61 61 61 61 61 61 61 61  aaaaaaaaaaaaaaaa\n",
      "0090: 61 61 61 61 61 61 61 61 61 61 61 61 61 61 61 61  aaaaaaaaaaaaaaaa\n",
      "00a0: 61 61 61 61 61 61 61 61 61 61 61 61 61 61 61 61  aaaaaaaaaaaaaaaa\n",
      "00b0: 61 61 61 61 61 61 61 61 61 61 61 61 61 61 61 61  aaaaaaaaaaaaaaaa\n",
      "00c0: 61 61 61 61 61 61 61 61 61 61 61 61 61 61 61 61  aaaaaaaaaaaaaaaa\n",
      "00d0: 61 61 61 61 61 61 61 61 61 61 61 61 61 61 61 61  aaaaaaaaaaaaaaaa\n",
      "00e0: 61 61 61 61 61 61 61 61 61 61 61 61 61 61 61 61  aaaaaaaaaaaaaaaa\n",
      "00f0: 61 61 61 61 61 61 61 61 61 61 61 61 61 61 61 61  aaaaaaaaaaaaaaaa\n",
      "0100: 61 61 61 61 61 61 61 61 61 61 61 61 61 61 61 61  aaaaaaaaaaaaaaaa\n"
     ]
    },
    {
     "data": {
      "application/vnd.plotly.v1+json": {
       "config": {
        "plotlyServerURL": "https://plot.ly"
       },
       "data": [
        {
         "name": "Process 1",
         "orientation": "h",
         "text": "Start: 0, Size: 16",
         "textposition": "auto",
         "type": "bar",
         "x": [
          16
         ],
         "xaxis": "x",
         "y": [
          "Process 1"
         ],
         "yaxis": "y"
        },
        {
         "name": "Process 1",
         "orientation": "h",
         "text": "Start: 16, Size: 256",
         "textposition": "auto",
         "type": "bar",
         "x": [
          256
         ],
         "xaxis": "x",
         "y": [
          "Process 1"
         ],
         "yaxis": "y"
        },
        {
         "name": "var1",
         "orientation": "h",
         "text": "Address: 0, Size: 8",
         "textposition": "auto",
         "type": "bar",
         "x": [
          8
         ],
         "xaxis": "x2",
         "y": [
          "var1"
         ],
         "yaxis": "y2"
        },
        {
         "name": "var2",
         "orientation": "h",
         "text": "Address: 8, Size: 4",
         "textposition": "auto",
         "type": "bar",
         "x": [
          4
         ],
         "xaxis": "x2",
         "y": [
          "var2"
         ],
         "yaxis": "y2"
        },
        {
         "name": "var3",
         "orientation": "h",
         "text": "Address: 16, Size: 256",
         "textposition": "auto",
         "type": "bar",
         "x": [
          256
         ],
         "xaxis": "x2",
         "y": [
          "var3"
         ],
         "yaxis": "y2"
        }
       ],
       "layout": {
        "annotations": [
         {
          "font": {
           "size": 16
          },
          "showarrow": false,
          "text": "OS Memory",
          "x": 0.5,
          "xanchor": "center",
          "xref": "paper",
          "y": 1,
          "yanchor": "bottom",
          "yref": "paper"
         },
         {
          "font": {
           "size": 16
          },
          "showarrow": false,
          "text": "Program 1 Memory",
          "x": 0.5,
          "xanchor": "center",
          "xref": "paper",
          "y": 0.6111111111111112,
          "yanchor": "bottom",
          "yref": "paper"
         },
         {
          "font": {
           "size": 16
          },
          "showarrow": false,
          "text": "Program 2 Memory",
          "x": 0.5,
          "xanchor": "center",
          "xref": "paper",
          "y": 0.22222222222222224,
          "yanchor": "bottom",
          "yref": "paper"
         }
        ],
        "height": 900,
        "showlegend": false,
        "template": {
         "data": {
          "bar": [
           {
            "error_x": {
             "color": "#2a3f5f"
            },
            "error_y": {
             "color": "#2a3f5f"
            },
            "marker": {
             "line": {
              "color": "#E5ECF6",
              "width": 0.5
             },
             "pattern": {
              "fillmode": "overlay",
              "size": 10,
              "solidity": 0.2
             }
            },
            "type": "bar"
           }
          ],
          "barpolar": [
           {
            "marker": {
             "line": {
              "color": "#E5ECF6",
              "width": 0.5
             },
             "pattern": {
              "fillmode": "overlay",
              "size": 10,
              "solidity": 0.2
             }
            },
            "type": "barpolar"
           }
          ],
          "carpet": [
           {
            "aaxis": {
             "endlinecolor": "#2a3f5f",
             "gridcolor": "white",
             "linecolor": "white",
             "minorgridcolor": "white",
             "startlinecolor": "#2a3f5f"
            },
            "baxis": {
             "endlinecolor": "#2a3f5f",
             "gridcolor": "white",
             "linecolor": "white",
             "minorgridcolor": "white",
             "startlinecolor": "#2a3f5f"
            },
            "type": "carpet"
           }
          ],
          "choropleth": [
           {
            "colorbar": {
             "outlinewidth": 0,
             "ticks": ""
            },
            "type": "choropleth"
           }
          ],
          "contour": [
           {
            "colorbar": {
             "outlinewidth": 0,
             "ticks": ""
            },
            "colorscale": [
             [
              0,
              "#0d0887"
             ],
             [
              0.1111111111111111,
              "#46039f"
             ],
             [
              0.2222222222222222,
              "#7201a8"
             ],
             [
              0.3333333333333333,
              "#9c179e"
             ],
             [
              0.4444444444444444,
              "#bd3786"
             ],
             [
              0.5555555555555556,
              "#d8576b"
             ],
             [
              0.6666666666666666,
              "#ed7953"
             ],
             [
              0.7777777777777778,
              "#fb9f3a"
             ],
             [
              0.8888888888888888,
              "#fdca26"
             ],
             [
              1,
              "#f0f921"
             ]
            ],
            "type": "contour"
           }
          ],
          "contourcarpet": [
           {
            "colorbar": {
             "outlinewidth": 0,
             "ticks": ""
            },
            "type": "contourcarpet"
           }
          ],
          "heatmap": [
           {
            "colorbar": {
             "outlinewidth": 0,
             "ticks": ""
            },
            "colorscale": [
             [
              0,
              "#0d0887"
             ],
             [
              0.1111111111111111,
              "#46039f"
             ],
             [
              0.2222222222222222,
              "#7201a8"
             ],
             [
              0.3333333333333333,
              "#9c179e"
             ],
             [
              0.4444444444444444,
              "#bd3786"
             ],
             [
              0.5555555555555556,
              "#d8576b"
             ],
             [
              0.6666666666666666,
              "#ed7953"
             ],
             [
              0.7777777777777778,
              "#fb9f3a"
             ],
             [
              0.8888888888888888,
              "#fdca26"
             ],
             [
              1,
              "#f0f921"
             ]
            ],
            "type": "heatmap"
           }
          ],
          "heatmapgl": [
           {
            "colorbar": {
             "outlinewidth": 0,
             "ticks": ""
            },
            "colorscale": [
             [
              0,
              "#0d0887"
             ],
             [
              0.1111111111111111,
              "#46039f"
             ],
             [
              0.2222222222222222,
              "#7201a8"
             ],
             [
              0.3333333333333333,
              "#9c179e"
             ],
             [
              0.4444444444444444,
              "#bd3786"
             ],
             [
              0.5555555555555556,
              "#d8576b"
             ],
             [
              0.6666666666666666,
              "#ed7953"
             ],
             [
              0.7777777777777778,
              "#fb9f3a"
             ],
             [
              0.8888888888888888,
              "#fdca26"
             ],
             [
              1,
              "#f0f921"
             ]
            ],
            "type": "heatmapgl"
           }
          ],
          "histogram": [
           {
            "marker": {
             "pattern": {
              "fillmode": "overlay",
              "size": 10,
              "solidity": 0.2
             }
            },
            "type": "histogram"
           }
          ],
          "histogram2d": [
           {
            "colorbar": {
             "outlinewidth": 0,
             "ticks": ""
            },
            "colorscale": [
             [
              0,
              "#0d0887"
             ],
             [
              0.1111111111111111,
              "#46039f"
             ],
             [
              0.2222222222222222,
              "#7201a8"
             ],
             [
              0.3333333333333333,
              "#9c179e"
             ],
             [
              0.4444444444444444,
              "#bd3786"
             ],
             [
              0.5555555555555556,
              "#d8576b"
             ],
             [
              0.6666666666666666,
              "#ed7953"
             ],
             [
              0.7777777777777778,
              "#fb9f3a"
             ],
             [
              0.8888888888888888,
              "#fdca26"
             ],
             [
              1,
              "#f0f921"
             ]
            ],
            "type": "histogram2d"
           }
          ],
          "histogram2dcontour": [
           {
            "colorbar": {
             "outlinewidth": 0,
             "ticks": ""
            },
            "colorscale": [
             [
              0,
              "#0d0887"
             ],
             [
              0.1111111111111111,
              "#46039f"
             ],
             [
              0.2222222222222222,
              "#7201a8"
             ],
             [
              0.3333333333333333,
              "#9c179e"
             ],
             [
              0.4444444444444444,
              "#bd3786"
             ],
             [
              0.5555555555555556,
              "#d8576b"
             ],
             [
              0.6666666666666666,
              "#ed7953"
             ],
             [
              0.7777777777777778,
              "#fb9f3a"
             ],
             [
              0.8888888888888888,
              "#fdca26"
             ],
             [
              1,
              "#f0f921"
             ]
            ],
            "type": "histogram2dcontour"
           }
          ],
          "mesh3d": [
           {
            "colorbar": {
             "outlinewidth": 0,
             "ticks": ""
            },
            "type": "mesh3d"
           }
          ],
          "parcoords": [
           {
            "line": {
             "colorbar": {
              "outlinewidth": 0,
              "ticks": ""
             }
            },
            "type": "parcoords"
           }
          ],
          "pie": [
           {
            "automargin": true,
            "type": "pie"
           }
          ],
          "scatter": [
           {
            "fillpattern": {
             "fillmode": "overlay",
             "size": 10,
             "solidity": 0.2
            },
            "type": "scatter"
           }
          ],
          "scatter3d": [
           {
            "line": {
             "colorbar": {
              "outlinewidth": 0,
              "ticks": ""
             }
            },
            "marker": {
             "colorbar": {
              "outlinewidth": 0,
              "ticks": ""
             }
            },
            "type": "scatter3d"
           }
          ],
          "scattercarpet": [
           {
            "marker": {
             "colorbar": {
              "outlinewidth": 0,
              "ticks": ""
             }
            },
            "type": "scattercarpet"
           }
          ],
          "scattergeo": [
           {
            "marker": {
             "colorbar": {
              "outlinewidth": 0,
              "ticks": ""
             }
            },
            "type": "scattergeo"
           }
          ],
          "scattergl": [
           {
            "marker": {
             "colorbar": {
              "outlinewidth": 0,
              "ticks": ""
             }
            },
            "type": "scattergl"
           }
          ],
          "scattermapbox": [
           {
            "marker": {
             "colorbar": {
              "outlinewidth": 0,
              "ticks": ""
             }
            },
            "type": "scattermapbox"
           }
          ],
          "scatterpolar": [
           {
            "marker": {
             "colorbar": {
              "outlinewidth": 0,
              "ticks": ""
             }
            },
            "type": "scatterpolar"
           }
          ],
          "scatterpolargl": [
           {
            "marker": {
             "colorbar": {
              "outlinewidth": 0,
              "ticks": ""
             }
            },
            "type": "scatterpolargl"
           }
          ],
          "scatterternary": [
           {
            "marker": {
             "colorbar": {
              "outlinewidth": 0,
              "ticks": ""
             }
            },
            "type": "scatterternary"
           }
          ],
          "surface": [
           {
            "colorbar": {
             "outlinewidth": 0,
             "ticks": ""
            },
            "colorscale": [
             [
              0,
              "#0d0887"
             ],
             [
              0.1111111111111111,
              "#46039f"
             ],
             [
              0.2222222222222222,
              "#7201a8"
             ],
             [
              0.3333333333333333,
              "#9c179e"
             ],
             [
              0.4444444444444444,
              "#bd3786"
             ],
             [
              0.5555555555555556,
              "#d8576b"
             ],
             [
              0.6666666666666666,
              "#ed7953"
             ],
             [
              0.7777777777777778,
              "#fb9f3a"
             ],
             [
              0.8888888888888888,
              "#fdca26"
             ],
             [
              1,
              "#f0f921"
             ]
            ],
            "type": "surface"
           }
          ],
          "table": [
           {
            "cells": {
             "fill": {
              "color": "#EBF0F8"
             },
             "line": {
              "color": "white"
             }
            },
            "header": {
             "fill": {
              "color": "#C8D4E3"
             },
             "line": {
              "color": "white"
             }
            },
            "type": "table"
           }
          ]
         },
         "layout": {
          "annotationdefaults": {
           "arrowcolor": "#2a3f5f",
           "arrowhead": 0,
           "arrowwidth": 1
          },
          "autotypenumbers": "strict",
          "coloraxis": {
           "colorbar": {
            "outlinewidth": 0,
            "ticks": ""
           }
          },
          "colorscale": {
           "diverging": [
            [
             0,
             "#8e0152"
            ],
            [
             0.1,
             "#c51b7d"
            ],
            [
             0.2,
             "#de77ae"
            ],
            [
             0.3,
             "#f1b6da"
            ],
            [
             0.4,
             "#fde0ef"
            ],
            [
             0.5,
             "#f7f7f7"
            ],
            [
             0.6,
             "#e6f5d0"
            ],
            [
             0.7,
             "#b8e186"
            ],
            [
             0.8,
             "#7fbc41"
            ],
            [
             0.9,
             "#4d9221"
            ],
            [
             1,
             "#276419"
            ]
           ],
           "sequential": [
            [
             0,
             "#0d0887"
            ],
            [
             0.1111111111111111,
             "#46039f"
            ],
            [
             0.2222222222222222,
             "#7201a8"
            ],
            [
             0.3333333333333333,
             "#9c179e"
            ],
            [
             0.4444444444444444,
             "#bd3786"
            ],
            [
             0.5555555555555556,
             "#d8576b"
            ],
            [
             0.6666666666666666,
             "#ed7953"
            ],
            [
             0.7777777777777778,
             "#fb9f3a"
            ],
            [
             0.8888888888888888,
             "#fdca26"
            ],
            [
             1,
             "#f0f921"
            ]
           ],
           "sequentialminus": [
            [
             0,
             "#0d0887"
            ],
            [
             0.1111111111111111,
             "#46039f"
            ],
            [
             0.2222222222222222,
             "#7201a8"
            ],
            [
             0.3333333333333333,
             "#9c179e"
            ],
            [
             0.4444444444444444,
             "#bd3786"
            ],
            [
             0.5555555555555556,
             "#d8576b"
            ],
            [
             0.6666666666666666,
             "#ed7953"
            ],
            [
             0.7777777777777778,
             "#fb9f3a"
            ],
            [
             0.8888888888888888,
             "#fdca26"
            ],
            [
             1,
             "#f0f921"
            ]
           ]
          },
          "colorway": [
           "#636efa",
           "#EF553B",
           "#00cc96",
           "#ab63fa",
           "#FFA15A",
           "#19d3f3",
           "#FF6692",
           "#B6E880",
           "#FF97FF",
           "#FECB52"
          ],
          "font": {
           "color": "#2a3f5f"
          },
          "geo": {
           "bgcolor": "white",
           "lakecolor": "white",
           "landcolor": "#E5ECF6",
           "showlakes": true,
           "showland": true,
           "subunitcolor": "white"
          },
          "hoverlabel": {
           "align": "left"
          },
          "hovermode": "closest",
          "mapbox": {
           "style": "light"
          },
          "paper_bgcolor": "white",
          "plot_bgcolor": "#E5ECF6",
          "polar": {
           "angularaxis": {
            "gridcolor": "white",
            "linecolor": "white",
            "ticks": ""
           },
           "bgcolor": "#E5ECF6",
           "radialaxis": {
            "gridcolor": "white",
            "linecolor": "white",
            "ticks": ""
           }
          },
          "scene": {
           "xaxis": {
            "backgroundcolor": "#E5ECF6",
            "gridcolor": "white",
            "gridwidth": 2,
            "linecolor": "white",
            "showbackground": true,
            "ticks": "",
            "zerolinecolor": "white"
           },
           "yaxis": {
            "backgroundcolor": "#E5ECF6",
            "gridcolor": "white",
            "gridwidth": 2,
            "linecolor": "white",
            "showbackground": true,
            "ticks": "",
            "zerolinecolor": "white"
           },
           "zaxis": {
            "backgroundcolor": "#E5ECF6",
            "gridcolor": "white",
            "gridwidth": 2,
            "linecolor": "white",
            "showbackground": true,
            "ticks": "",
            "zerolinecolor": "white"
           }
          },
          "shapedefaults": {
           "line": {
            "color": "#2a3f5f"
           }
          },
          "ternary": {
           "aaxis": {
            "gridcolor": "white",
            "linecolor": "white",
            "ticks": ""
           },
           "baxis": {
            "gridcolor": "white",
            "linecolor": "white",
            "ticks": ""
           },
           "bgcolor": "#E5ECF6",
           "caxis": {
            "gridcolor": "white",
            "linecolor": "white",
            "ticks": ""
           }
          },
          "title": {
           "x": 0.05
          },
          "xaxis": {
           "automargin": true,
           "gridcolor": "white",
           "linecolor": "white",
           "ticks": "",
           "title": {
            "standoff": 15
           },
           "zerolinecolor": "white",
           "zerolinewidth": 2
          },
          "yaxis": {
           "automargin": true,
           "gridcolor": "white",
           "linecolor": "white",
           "ticks": "",
           "title": {
            "standoff": 15
           },
           "zerolinecolor": "white",
           "zerolinewidth": 2
          }
         }
        },
        "width": 800,
        "xaxis": {
         "anchor": "y",
         "domain": [
          0,
          1
         ]
        },
        "xaxis2": {
         "anchor": "y2",
         "domain": [
          0,
          1
         ]
        },
        "xaxis3": {
         "anchor": "y3",
         "domain": [
          0,
          1
         ]
        },
        "yaxis": {
         "anchor": "x",
         "domain": [
          0.7777777777777778,
          1
         ]
        },
        "yaxis2": {
         "anchor": "x2",
         "domain": [
          0.3888888888888889,
          0.6111111111111112
         ]
        },
        "yaxis3": {
         "anchor": "x3",
         "domain": [
          0,
          0.22222222222222224
         ]
        }
       }
      }
     },
     "metadata": {},
     "output_type": "display_data"
    }
   ],
   "source": [
    "print(\"=================================\")\n",
    "print(\"============ SANDBOX ============\")\n",
    "print(\"=================================\")\n",
    "\n",
    "def convert_bytes_to_str(bytes):\n",
    "    return ''.join(chr(b) for b in bytes if b != 0)\n",
    "\n",
    "# Sample Programs\n",
    "class Program1(BaseProgram):\n",
    "    def step_1(self):\n",
    "        print(\"Program 1, Step 1: Allocate and set variables\")\n",
    "        self.allocate_variable(\"var1\", 4)\n",
    "        self.allocate_variable(\"var2\", 4)\n",
    "        self.set_variable(\"var1\", 42)\n",
    "        self.set_variable(\"var2\", \"Hello\")\n",
    "\n",
    "    def step_2(self):\n",
    "        print(\"Program 1, Step 2: Read and modify variables\")\n",
    "        self.get_variable(\"var1\")\n",
    "        self.get_variable(\"var2\")\n",
    "        self.set_variable(\"var1\", 100)\n",
    "        self.get_variable(\"var1\")\n",
    "\n",
    "    def step_3(self):\n",
    "        print(\"Program 1, Step 3: Free variables\")\n",
    "        self.free_variable(\"var1\")\n",
    "        self.free_variable(\"var2\")\n",
    "\n",
    "class CoolProgram(BaseProgram):\n",
    "    def step_1(self):\n",
    "        self.allocate_variable(\"var1\", 8)\n",
    "        self.set_variable(\"var1\", \"ABC abc\")\n",
    "\n",
    "        self.allocate_variable(\"var2\", 4)\n",
    "        self.set_variable(\"var2\", \"mac \")\n",
    "\n",
    "    def step_2(self):\n",
    "        \n",
    "\n",
    "        self.allocate_variable(\"var3\", 256)\n",
    "        self.set_variable(\"var3\", \"a\"*256)\n",
    "\n",
    "\n",
    "    def step_3(self):\n",
    "        self.get_variable(\"var2\")\n",
    "\n",
    "\n",
    "os = JulieOS()\n",
    "os.set_virtual_memory_enabled(True)\n",
    "\n",
    "pid1 = os.create_program(CoolProgram)\n",
    "pid2 = os.create_program(CoolProgram)\n",
    "\n",
    "os.execute_program_step(pid1, 1)\n",
    "os.dump_memory()\n",
    "os.dump_hard_drive()\n",
    "os.programs[pid1].dump_memory()\n",
    "\n",
    "# os.execute_program_step(pid2, 1)\n",
    "# os.dump_memory()\n",
    "# os.dump_hard_drive()\n",
    "# os.programs[pid2].dump_memory()\n",
    "\n",
    "os.execute_program_step(pid1, 2)\n",
    "os.dump_memory()\n",
    "os.dump_hard_drive()\n",
    "os.programs[pid1].dump_memory()\n",
    "\n",
    "os.execute_program_step(pid1, 3)\n",
    "os.dump_memory()\n",
    "os.dump_hard_drive()\n",
    "os.programs[pid1].dump_memory()\n",
    "\n",
    "\n",
    "\n",
    "# os.programs[pid1].dump_memory()\n",
    "# os.programs[pid2].dump_memory()\n",
    "\n",
    "\n",
    "# pid1 = os.create_program(Program1)\n",
    "\n",
    "# print(\"Initial state:\")\n",
    "# os.dump_memory()\n",
    "# os.programs[pid1].dump_memory()\n",
    "visualize_memory(os)\n",
    "\n",
    "# print(\"\\nExecute Program 1, Step 1:\")\n",
    "# os.execute_program_step(pid1, 1)\n",
    "# os.dump_memory()\n",
    "# os.programs[pid1].dump_memory()\n",
    "# visualize_memory(os)"
   ]
  }
 ],
 "metadata": {
  "kernelspec": {
   "display_name": "Python 3",
   "language": "python",
   "name": "python3"
  },
  "language_info": {
   "codemirror_mode": {
    "name": "ipython",
    "version": 3
   },
   "file_extension": ".py",
   "mimetype": "text/x-python",
   "name": "python",
   "nbconvert_exporter": "python",
   "pygments_lexer": "ipython3",
   "version": "3.12.4"
  }
 },
 "nbformat": 4,
 "nbformat_minor": 2
}
